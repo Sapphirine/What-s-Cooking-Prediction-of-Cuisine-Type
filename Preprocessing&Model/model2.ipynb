{
 "cells": [
  {
   "cell_type": "code",
   "execution_count": 1,
   "metadata": {},
   "outputs": [],
   "source": [
    "from pyspark.sql import SparkSession\n",
    "spark = SparkSession\\\n",
    "    .builder\\\n",
    "    .appName(\"WhatsCook\")\\\n",
    "    .getOrCreate()"
   ]
  },
  {
   "cell_type": "code",
   "execution_count": 2,
   "metadata": {},
   "outputs": [],
   "source": [
    "from sklearn.model_selection import train_test_split\n",
    "from pyspark.sql.functions import col, udf\n",
    "from pyspark.sql.types import IntegerType\n",
    "from pyspark.ml.feature import Tokenizer, RegexTokenizer\n",
    "from pyspark.ml.feature import StopWordsRemover\n",
    "from pyspark.ml.feature import HashingTF\n",
    "from pyspark.ml.feature import IDF\n",
    "from pyspark.ml.feature import Word2Vec\n",
    "from pyspark.ml.classification import *\n",
    "from pyspark.ml.evaluation import MulticlassClassificationEvaluator\n",
    "from pyspark.ml import Pipeline\n",
    "import json"
   ]
  },
  {
   "cell_type": "code",
   "execution_count": 3,
   "metadata": {},
   "outputs": [],
   "source": [
    "testdata = spark.read.format(\"json\").load(\"./test.json\")\n",
    "traindata = spark.read.format(\"json\").load(\"./train.json\")"
   ]
  },
  {
   "cell_type": "code",
   "execution_count": 4,
   "metadata": {},
   "outputs": [
    {
     "name": "stdout",
     "output_type": "stream",
     "text": [
      "+-------+---+--------------------+-----+\n",
      "|cuisine| id|         ingredients|label|\n",
      "+-------+---+--------------------+-----+\n",
      "|chinese|  0|mince,cloves,grat...|    0|\n",
      "|chinese|  1|fresh-wide-noodle...|    0|\n",
      "|chinese|  2|fresh-wide-noodle...|    0|\n",
      "|chinese|  3|mince-pork,hot-be...|    0|\n",
      "|chinese|  4|long-grain-white-...|    0|\n",
      "+-------+---+--------------------+-----+\n",
      "only showing top 5 rows\n",
      "\n"
     ]
    }
   ],
   "source": [
    "traindata.show(5)"
   ]
  },
  {
   "cell_type": "code",
   "execution_count": 5,
   "metadata": {},
   "outputs": [],
   "source": [
    "def accuracy(result):\n",
    "    temp = result.collect()\n",
    "    total = 0.0\n",
    "    hit = 0.0\n",
    "    labelmax = 0\n",
    "    for row in temp:\n",
    "        total += 1\n",
    "        if row['label'] == int(row['prediction']):\n",
    "            hit += 1\n",
    "        labelmax = max(labelmax, row['prediction'])\n",
    "    print (hit / total)\n",
    "    print (labelmax)"
   ]
  },
  {
   "cell_type": "markdown",
   "metadata": {},
   "source": [
    "Text Extraction"
   ]
  },
  {
   "cell_type": "code",
   "execution_count": 6,
   "metadata": {},
   "outputs": [],
   "source": [
    "regexTokenizer = RegexTokenizer(inputCol=\"ingredients\", outputCol=\"words\", pattern=\"[^A-Za-z]+\", toLowercase=True)"
   ]
  },
  {
   "cell_type": "markdown",
   "metadata": {},
   "source": [
    "TF-IDF"
   ]
  },
  {
   "cell_type": "code",
   "execution_count": null,
   "metadata": {},
   "outputs": [],
   "source": [
    "hashingTF = HashingTF(inputCol=\"words\", outputCol=\"raw_features\", numFeatures=20)\n",
    "idf = IDF(inputCol=\"raw_features\", outputCol=\"features\")\n",
    "pipeline_tfidf = Pipeline(stages=[regexTokenizer, hashingTF, idf])\n",
    "pipeline_tfidf_model_train = pipeline_tfidf.fit(traindata)\n",
    "train_tfidf_ready = pipeline_tfidf_model_train.transform(traindata)\n",
    "test_tfidf = pipeline_tfidf_model_train.transform(testdata)"
   ]
  },
  {
   "cell_type": "markdown",
   "metadata": {},
   "source": [
    "Word2Vector"
   ]
  },
  {
   "cell_type": "code",
   "execution_count": 7,
   "metadata": {},
   "outputs": [],
   "source": [
    "word2Vec = Word2Vec(vectorSize=100, minCount=0, inputCol=\"words\", outputCol=\"features\")\n",
    "pipeline_w2v = Pipeline(stages=[regexTokenizer, word2Vec])\n",
    "pipeline_w2v_model = pipeline_w2v.fit(traindata)\n",
    "train_w2v = pipeline_w2v_model.transform(traindata)\n",
    "test_w2v = pipeline_w2v_model.transform(testdata)\n",
    "# train_w2v['label','words', 'features'].orderBy(\"cuisine\").show(5, False)"
   ]
  },
  {
   "cell_type": "markdown",
   "metadata": {},
   "source": [
    "OvR SVM Model"
   ]
  },
  {
   "cell_type": "code",
   "execution_count": 8,
   "metadata": {},
   "outputs": [],
   "source": [
    "svc = LinearSVC(maxIter = 1000, tol=0.001, aggregationDepth=3, regParam=0.01)\n",
    "ovr_svc = OneVsRest(classifier=svc)"
   ]
  },
  {
   "cell_type": "code",
   "execution_count": 10,
   "metadata": {},
   "outputs": [],
   "source": [
    "ovr_svc_model = ovr_svc.fit(train_w2v)\n",
    "prediction_w2v_ovr = ovr_svc_model.transform(test_w2v)"
   ]
  },
  {
   "cell_type": "code",
   "execution_count": 11,
   "metadata": {},
   "outputs": [
    {
     "name": "stdout",
     "output_type": "stream",
     "text": [
      "0.7213727343011769\n",
      "19.0\n"
     ]
    }
   ],
   "source": [
    "accuracy(prediction_w2v_ovr)"
   ]
  },
  {
   "cell_type": "markdown",
   "metadata": {},
   "source": [
    "LogisticRegression Model"
   ]
  },
  {
   "cell_type": "code",
   "execution_count": 12,
   "metadata": {},
   "outputs": [],
   "source": [
    "lr = LogisticRegression(maxIter=1000, regParam=0.001)"
   ]
  },
  {
   "cell_type": "code",
   "execution_count": 13,
   "metadata": {},
   "outputs": [],
   "source": [
    "lrModel_w2v = lr.fit(train_w2v)\n",
    "prediction_w2v_lr = lrModel_w2v.transform(test_w2v)"
   ]
  },
  {
   "cell_type": "code",
   "execution_count": 14,
   "metadata": {},
   "outputs": [
    {
     "name": "stdout",
     "output_type": "stream",
     "text": [
      "0.7607593849325659\n",
      "19.0\n"
     ]
    }
   ],
   "source": [
    "accuracy(prediction_w2v_lr)"
   ]
  },
  {
   "cell_type": "markdown",
   "metadata": {},
   "source": [
    "DecisionTree Model"
   ]
  },
  {
   "cell_type": "code",
   "execution_count": 15,
   "metadata": {},
   "outputs": [],
   "source": [
    "DT = DecisionTreeClassifier(maxDepth = 15)\n",
    "DTmodel = DT.fit(train_w2v)"
   ]
  },
  {
   "cell_type": "code",
   "execution_count": 16,
   "metadata": {},
   "outputs": [],
   "source": [
    "DTresult = DTmodel.transform(test_w2v)"
   ]
  },
  {
   "cell_type": "code",
   "execution_count": 18,
   "metadata": {},
   "outputs": [
    {
     "name": "stdout",
     "output_type": "stream",
     "text": [
      "+----------+-----+--------------------+-----+--------------------+--------------------+--------------------+--------------------+----------+\n",
      "|   cuisine|   id|         ingredients|label|               words|            features|       rawPrediction|         probability|prediction|\n",
      "+----------+-----+--------------------+-----+--------------------+--------------------+--------------------+--------------------+----------+\n",
      "|vietnamese|88554|baguette,olive-oi...|   12|[baguette, olive,...|[-0.0398798672433...|[1.0,0.0,0.0,0.0,...|[0.03333333333333...|       8.0|\n",
      "|   chinese| 1077|chinese-eggplants...|    0|[chinese, eggplan...|[-0.1610382734177...|[1.0,3.0,0.0,0.0,...|[0.01190476190476...|       4.0|\n",
      "|    french| 9729|cake-mix,cocoa,cr...|    1|[cake, mix, cocoa...|[-0.0133330086246...|[0.0,5.0,0.0,0.0,...|[0.0,1.0,0.0,0.0,...|       1.0|\n",
      "|  japanese|71972|soy-sauce,dried-t...|    5|[soy, sauce, drie...|[-0.1885573548421...|[0.0,0.0,0.0,0.0,...|[0.0,0.0,0.0,0.0,...|       5.0|\n",
      "|   spanish|64334|salt-and-ground-b...|    7|[salt, and, groun...|[-0.1205041342629...|[0.0,3.0,4.0,0.0,...|[0.0,0.1428571428...|       7.0|\n",
      "|  japanese|34986|nori-sheets,toast...|    5|[nori, sheets, to...|[-0.0322332435119...|[0.0,0.0,0.0,0.0,...|[0.0,0.0,0.0,0.0,...|       5.0|\n",
      "|     greek|92588|tomatoes,olive-oi...|    2|[tomatoes, olive,...|[0.03185426635113...|[0.0,10.0,3.0,1.0...|[0.0,0.2857142857...|       1.0|\n",
      "|   italian|24635|olive-oil,onion,p...|    4|[olive, oil, onio...|[-0.0920148604742...|[0.0,0.0,0.0,0.0,...|[0.0,0.0,0.0,0.0,...|       4.0|\n",
      "|    french|87577|unsalted-butter,c...|    1|[unsalted, butter...|[0.03767468562970...|[0.0,37.0,3.0,1.0...|[0.0,0.4805194805...|       1.0|\n",
      "|  filipino|91773|bell-pepper,ginge...|   18|[bell, pepper, gi...|[-0.0559654564389...|[0.0,0.0,0.0,0.0,...|[0.0,0.0,0.0,0.0,...|      18.0|\n",
      "|   chinese| 2674|top-round-steak,c...|    0|[top, round, stea...|[-0.0436343177266...|[156.0,0.0,0.0,0....|[0.83870967741935...|       0.0|\n",
      "|    french|68992|broccoli-stems,sl...|    1|[broccoli, stems,...|[-0.1258529151479...|[1.0,2.0,1.0,0.0,...|[0.2,0.4,0.2,0.0,...|       1.0|\n",
      "|  moroccan|66730|black-pepper,fine...|   13|[black, pepper, f...|[-0.0579215579297...|[0.0,0.0,0.0,0.0,...|[0.0,0.0,0.0,0.0,...|      13.0|\n",
      "|   italian|28743|european-cucumber...|    4|[european, cucumb...|[-0.0851437921978...|[2.0,1.0,16.0,0.0...|[0.06451612903225...|       2.0|\n",
      "|    indian|21867|water,ghee,cumin-...|    3|[water, ghee, cum...|[-0.1832663953742...|[1.0,3.0,7.0,3908...|[2.48756218905472...|       3.0|\n",
      "|     greek|13674|butter,sugar,eggs...|    2|[butter, sugar, e...|[0.03948531332699...|[0.0,0.0,73.0,0.0...|[0.0,0.0,1.0,0.0,...|       2.0|\n",
      "|    french| 6625|slab-bacon,olive-...|    1|[slab, bacon, oli...|[-0.1156645653465...|[0.0,90.0,0.0,0.0...|[0.0,0.7258064516...|       1.0|\n",
      "|   mexican|37580|water,halibut,red...|    6|[water, halibut, ...|[-0.1683008486924...|[0.0,1.0,0.0,0.0,...|[0.0,0.0333333333...|       6.0|\n",
      "|    french| 8880|butter,zucchini,s...|    1|[butter, zucchini...|[-0.1556111890157...|[0.0,4.0,0.0,0.0,...|[0.0,1.0,0.0,0.0,...|       1.0|\n",
      "|     greek|12142|red-potato,nonfat...|    2|[red, potato, non...|[-0.1338712015499...|[0.0,1.0,35.0,0.0...|[0.0,0.0270270270...|       2.0|\n",
      "+----------+-----+--------------------+-----+--------------------+--------------------+--------------------+--------------------+----------+\n",
      "only showing top 20 rows\n",
      "\n"
     ]
    }
   ],
   "source": [
    "DTresult.show()"
   ]
  },
  {
   "cell_type": "code",
   "execution_count": 17,
   "metadata": {},
   "outputs": [
    {
     "name": "stdout",
     "output_type": "stream",
     "text": [
      "0.8246714199811013\n",
      "19.0\n"
     ]
    }
   ],
   "source": [
    "accuracy(DTresult)"
   ]
  },
  {
   "cell_type": "markdown",
   "metadata": {},
   "source": [
    "RandomForest Model"
   ]
  },
  {
   "cell_type": "code",
   "execution_count": 19,
   "metadata": {},
   "outputs": [],
   "source": [
    "rf = RandomForestClassifier(maxDepth = 15)\n",
    "rfmodel = rf.fit(train_w2v)"
   ]
  },
  {
   "cell_type": "code",
   "execution_count": 20,
   "metadata": {},
   "outputs": [
    {
     "name": "stdout",
     "output_type": "stream",
     "text": [
      "+----------+-----+--------------------+-----+--------------------+--------------------+--------------------+--------------------+----------+\n",
      "|   cuisine|   id|         ingredients|label|               words|            features|       rawPrediction|         probability|prediction|\n",
      "+----------+-----+--------------------+-----+--------------------+--------------------+--------------------+--------------------+----------+\n",
      "|vietnamese|88554|baguette,olive-oi...|   12|[baguette, olive,...|[-0.0398798672433...|[3.57845433890070...|[0.17892271694503...|      12.0|\n",
      "|   chinese| 1077|chinese-eggplants...|    0|[chinese, eggplan...|[-0.1610382734177...|[3.77167727274225...|[0.18858386363711...|       4.0|\n",
      "|    french| 9729|cake-mix,cocoa,cr...|    1|[cake, mix, cocoa...|[-0.0133330086246...|[0.01538461538461...|[7.69230769230769...|       1.0|\n",
      "|  japanese|71972|soy-sauce,dried-t...|    5|[soy, sauce, drie...|[-0.1885573548421...|[0.91163340336134...|[0.04558167016806...|       5.0|\n",
      "|   spanish|64334|salt-and-ground-b...|    7|[salt, and, groun...|[-0.1205041342629...|[0.0,1.7047973291...|[0.0,0.0852398664...|       7.0|\n",
      "|  japanese|34986|nori-sheets,toast...|    5|[nori, sheets, to...|[-0.0322332435119...|[2.66179923103185...|[0.13308996155159...|       5.0|\n",
      "|     greek|92588|tomatoes,olive-oi...|    2|[tomatoes, olive,...|[0.03185426635113...|[0.06791176304872...|[0.00339558815243...|       2.0|\n",
      "|   italian|24635|olive-oil,onion,p...|    4|[olive, oil, onio...|[-0.0920148604742...|[0.69436681222707...|[0.03471834061135...|       4.0|\n",
      "|    french|87577|unsalted-butter,c...|    1|[unsalted, butter...|[0.03767468562970...|[0.10981008606388...|[0.00549050430319...|       1.0|\n",
      "|  filipino|91773|bell-pepper,ginge...|   18|[bell, pepper, gi...|[-0.0559654564389...|[1.86186322943097...|[0.09309316147154...|       8.0|\n",
      "|   chinese| 2674|top-round-steak,c...|    0|[top, round, stea...|[-0.0436343177266...|[16.8919527602226...|[0.84459763801113...|       0.0|\n",
      "|    french|68992|broccoli-stems,sl...|    1|[broccoli, stems,...|[-0.1258529151479...|[0.08366249725696...|[0.00418312486284...|       1.0|\n",
      "|  moroccan|66730|black-pepper,fine...|   13|[black, pepper, f...|[-0.0579215579297...|[0.06699970614163...|[0.00334998530708...|      13.0|\n",
      "|   italian|28743|european-cucumber...|    4|[european, cucumb...|[-0.0851437921978...|[0.00145348837209...|[7.26744186046511...|       2.0|\n",
      "|    indian|21867|water,ghee,cumin-...|    3|[water, ghee, cum...|[-0.1832663953742...|[0.00698554335069...|[3.49277167534739...|       3.0|\n",
      "|     greek|13674|butter,sugar,eggs...|    2|[butter, sugar, e...|[0.03948531332699...|[0.05043859649122...|[0.00252192982456...|       2.0|\n",
      "|    french| 6625|slab-bacon,olive-...|    1|[slab, bacon, oli...|[-0.1156645653465...|[0.09355320642354...|[0.00467766032117...|       1.0|\n",
      "|   mexican|37580|water,halibut,red...|    6|[water, halibut, ...|[-0.1683008486924...|[0.13984783095221...|[0.00699239154761...|       6.0|\n",
      "|    french| 8880|butter,zucchini,s...|    1|[butter, zucchini...|[-0.1556111890157...|[0.00492610837438...|[2.46305418719211...|       4.0|\n",
      "|     greek|12142|red-potato,nonfat...|    2|[red, potato, non...|[-0.1338712015499...|[0.00409836065573...|[2.04918032786885...|       2.0|\n",
      "+----------+-----+--------------------+-----+--------------------+--------------------+--------------------+--------------------+----------+\n",
      "only showing top 20 rows\n",
      "\n"
     ]
    }
   ],
   "source": [
    "rfresult = rfmodel.transform(test_w2v)\n",
    "rfresult.show()"
   ]
  },
  {
   "cell_type": "code",
   "execution_count": 21,
   "metadata": {},
   "outputs": [
    {
     "name": "stdout",
     "output_type": "stream",
     "text": [
      "0.9272828794777082\n",
      "19.0\n"
     ]
    }
   ],
   "source": [
    "accuracy(rfresult)"
   ]
  }
 ],
 "metadata": {
  "kernelspec": {
   "display_name": "Python 3",
   "language": "python",
   "name": "python3"
  },
  "language_info": {
   "codemirror_mode": {
    "name": "ipython",
    "version": 3
   },
   "file_extension": ".py",
   "mimetype": "text/x-python",
   "name": "python",
   "nbconvert_exporter": "python",
   "pygments_lexer": "ipython3",
   "version": "3.6.4"
  }
 },
 "nbformat": 4,
 "nbformat_minor": 2
}
